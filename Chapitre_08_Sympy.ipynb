{
 "cells": [
  {
   "cell_type": "code",
   "execution_count": 9,
   "metadata": {},
   "outputs": [],
   "source": [
    "import sympy as sp # charger la libraire sympy pour faire du calcul formel.\n",
    "sp.init_printing()"
   ]
  },
  {
   "cell_type": "markdown",
   "metadata": {},
   "source": [
    "# Calculer la fonction dérivée d'une fonction à une variable\n",
    "\n",
    "Pour calculer une dérivée première, on utilise la fonction $diff()$ de la librairie Sympy.\n",
    "\n",
    "Par exemple, pour calculer la dérivée de $\\quad\\sin(x)$ :\n",
    "\n",
    "     sp.diff(sp.sin(x),x)\n",
    "           \n",
    "qui nous retourne bien : $\\quad \\quad \\cos(x)$. \n",
    "\n",
    "Il est n'est pas indispensable ici de spécifier que l'on dérive selon la variable $x$, mais il est préfréable de la faire pour respecter l'ordre des arguments, ce qui sera utile ci-dessous. Un exemple un peu plus compliqué :\n",
    "\n",
    "     sp.diff(sp.sin(x)*sp.exp(x)/x)\n",
    "    \n",
    "qui donne $\\quad \\quad \\frac{e^x\\sin(x)}{x} + e^x\\cos(x) −  \\frac{e^x\\sin(x)}{x^2}$.\n",
    "\n",
    "Source du doc disponible sur :\n",
    "[Cliquez ici](http://www.tangentex.com/CalculSymbolique.htm#Par6 \"Source\")"
   ]
  },
  {
   "cell_type": "markdown",
   "metadata": {},
   "source": [
    "## Déninir le symbole, variable de votre fonction."
   ]
  },
  {
   "cell_type": "code",
   "execution_count": 10,
   "metadata": {},
   "outputs": [],
   "source": [
    "x = sp.Symbol('x')"
   ]
  },
  {
   "cell_type": "code",
   "execution_count": 11,
   "metadata": {},
   "outputs": [
    {
     "data": {
      "image/png": "[encoded data removed]",
      "text/latex": [
       "$\\displaystyle \\cos{\\left(x \\right)}$"
      ],
      "text/plain": [
       "cos(x)"
      ]
     },
     "execution_count": 11,
     "metadata": {},
     "output_type": "execute_result"
    }
   ],
   "source": [
    "sp.diff(sp.sin(x),x)"
   ]
  },
  {
   "cell_type": "code",
   "execution_count": 12,
   "metadata": {},
   "outputs": [
    {
     "data": {
      "image/png": "[encoded data removed]",
      "text/latex": [
       "$\\displaystyle \\frac{e^{x} \\sin{\\left(x \\right)}}{x} + \\frac{e^{x} \\cos{\\left(x \\right)}}{x} - \\frac{e^{x} \\sin{\\left(x \\right)}}{x^{2}}$"
      ],
      "text/plain": [
       " x           x           x       \n",
       "ℯ ⋅sin(x)   ℯ ⋅cos(x)   ℯ ⋅sin(x)\n",
       "───────── + ───────── - ─────────\n",
       "    x           x            2   \n",
       "                            x    "
      ]
     },
     "execution_count": 12,
     "metadata": {},
     "output_type": "execute_result"
    }
   ],
   "source": [
    "sp.diff(sp.sin(x)*sp.exp(x)/x)"
   ]
  },
  {
   "cell_type": "markdown",
   "metadata": {},
   "source": [
    "# Application 1 de notre cours : verifions ensemble ?\n",
    "\n",
    "Attention : la fonction _diff()_ de sympy montre uniquement le résultat final, elle permet seulement de vérifier ses calculs !!!"
   ]
  },
  {
   "cell_type": "code",
   "execution_count": 13,
   "metadata": {},
   "outputs": [
    {
     "data": {
      "image/png": "[encoded data removed]",
      "text/latex": [
       "$\\displaystyle 2 - 7 x$"
      ],
      "text/plain": [
       "2 - 7⋅x"
      ]
     },
     "execution_count": 13,
     "metadata": {},
     "output_type": "execute_result"
    }
   ],
   "source": [
    "# la fonction f :\n",
    "f = -7*x + 2\n",
    "f"
   ]
  },
  {
   "cell_type": "code",
   "execution_count": 14,
   "metadata": {},
   "outputs": [
    {
     "data": {
      "image/png": "[encoded data removed]",
      "text/latex": [
       "$\\displaystyle -7$"
      ],
      "text/plain": [
       "-7"
      ]
     },
     "execution_count": 14,
     "metadata": {},
     "output_type": "execute_result"
    }
   ],
   "source": [
    "sp.diff(f)"
   ]
  },
  {
   "cell_type": "code",
   "execution_count": 15,
   "metadata": {},
   "outputs": [
    {
     "data": {
      "image/png": "[encoded data removed]",
      "text/latex": [
       "$\\displaystyle \\sqrt{x} + x^{2}$"
      ],
      "text/plain": [
       "      2\n",
       "√x + x "
      ]
     },
     "execution_count": 15,
     "metadata": {},
     "output_type": "execute_result"
    }
   ],
   "source": [
    "# la onction g :\n",
    "g = x**2 + sp.sqrt(x)\n",
    "g"
   ]
  },
  {
   "cell_type": "code",
   "execution_count": 16,
   "metadata": {},
   "outputs": [
    {
     "data": {
      "image/png": "[encoded data removed]",
      "text/latex": [
       "$\\displaystyle 2 x + \\frac{1}{2 \\sqrt{x}}$"
      ],
      "text/plain": [
       "       1  \n",
       "2⋅x + ────\n",
       "      2⋅√x"
      ]
     },
     "execution_count": 16,
     "metadata": {},
     "output_type": "execute_result"
    }
   ],
   "source": [
    "sp.diff(g)"
   ]
  },
  {
   "cell_type": "code",
   "execution_count": 17,
   "metadata": {},
   "outputs": [
    {
     "data": {
      "image/png": "[encoded data removed]",
      "text/latex": [
       "$\\displaystyle - \\frac{5}{x}$"
      ],
      "text/plain": [
       "-5 \n",
       "───\n",
       " x "
      ]
     },
     "execution_count": 17,
     "metadata": {},
     "output_type": "execute_result"
    }
   ],
   "source": [
    "# la fonction h :\n",
    "h = -5/x\n",
    "h"
   ]
  },
  {
   "cell_type": "code",
   "execution_count": 18,
   "metadata": {},
   "outputs": [
    {
     "data": {
      "image/png": "[encoded data removed]",
      "text/latex": [
       "$\\displaystyle \\frac{5}{x^{2}}$"
      ],
      "text/plain": [
       "5 \n",
       "──\n",
       " 2\n",
       "x "
      ]
     },
     "execution_count": 18,
     "metadata": {},
     "output_type": "execute_result"
    }
   ],
   "source": [
    "sp.diff(h)"
   ]
  },
  {
   "cell_type": "code",
   "execution_count": 19,
   "metadata": {},
   "outputs": [
    {
     "data": {
      "image/png": "[encoded data removed]",
      "text/latex": [
       "$\\displaystyle \\frac{x^{3}}{6} - 8 x + 1$"
      ],
      "text/plain": [
       " 3          \n",
       "x           \n",
       "── - 8⋅x + 1\n",
       "6           "
      ]
     },
     "execution_count": 19,
     "metadata": {},
     "output_type": "execute_result"
    }
   ],
   "source": [
    "# la fonction i :\n",
    "i = x**3/6 -8*x + 1\n",
    "i"
   ]
  },
  {
   "cell_type": "code",
   "execution_count": 20,
   "metadata": {},
   "outputs": [
    {
     "data": {
      "image/png": "[encoded data removed]",
      "text/latex": [
       "$\\displaystyle \\frac{x^{2}}{2} - 8$"
      ],
      "text/plain": [
       " 2    \n",
       "x     \n",
       "── - 8\n",
       "2     "
      ]
     },
     "execution_count": 20,
     "metadata": {},
     "output_type": "execute_result"
    }
   ],
   "source": [
    "sp.diff(i)"
   ]
  },
  {
   "cell_type": "code",
   "execution_count": 21,
   "metadata": {},
   "outputs": [
    {
     "data": {
      "image/png": "[encoded data removed]",
      "text/latex": [
       "$\\displaystyle x^{2} + \\frac{2}{3 x^{2}}$"
      ],
      "text/plain": [
       " 2    2  \n",
       "x  + ────\n",
       "        2\n",
       "     3⋅x "
      ]
     },
     "execution_count": 21,
     "metadata": {},
     "output_type": "execute_result"
    }
   ],
   "source": [
    "# la fonction j :\n",
    "j = x**2 + 2/(3*x**2)\n",
    "j"
   ]
  },
  {
   "cell_type": "code",
   "execution_count": 22,
   "metadata": {},
   "outputs": [
    {
     "data": {
      "image/png": "[encoded data removed]",
      "text/latex": [
       "$\\displaystyle 2 x - \\frac{4}{3 x^{3}}$"
      ],
      "text/plain": [
       "       4  \n",
       "2⋅x - ────\n",
       "         3\n",
       "      3⋅x "
      ]
     },
     "execution_count": 22,
     "metadata": {},
     "output_type": "execute_result"
    }
   ],
   "source": [
    "sp.diff(j)"
   ]
  },
  {
   "cell_type": "markdown",
   "metadata": {},
   "source": [
    "# Application 2 de notre cours : vérifions encore ?\n",
    "\n",
    "l'exemple du produit vérifié ici : \n",
    "\n",
    "$f(x) = 3x\\sqrt{x}$"
   ]
  },
  {
   "cell_type": "code",
   "execution_count": 23,
   "metadata": {},
   "outputs": [
    {
     "data": {
      "image/png": "[encoded data removed]",
      "text/latex": [
       "$\\displaystyle \\frac{9 \\sqrt{x}}{2}$"
      ],
      "text/plain": [
       "9⋅√x\n",
       "────\n",
       " 2  "
      ]
     },
     "execution_count": 23,
     "metadata": {},
     "output_type": "execute_result"
    }
   ],
   "source": [
    "sp.diff(3*x*sp.sqrt(x))"
   ]
  },
  {
   "cell_type": "markdown",
   "metadata": {},
   "source": [
    "Application 2 est vérifié ici :"
   ]
  },
  {
   "cell_type": "code",
   "execution_count": 24,
   "metadata": {},
   "outputs": [
    {
     "data": {
      "image/png": "[encoded data removed]",
      "text/latex": [
       "$\\displaystyle \\frac{5 x^{\\frac{3}{2}}}{2}$"
      ],
      "text/plain": [
       "   3/2\n",
       "5⋅x   \n",
       "──────\n",
       "  2   "
      ]
     },
     "execution_count": 24,
     "metadata": {},
     "output_type": "execute_result"
    }
   ],
   "source": [
    "sp.diff(x**2*sp.sqrt(x))"
   ]
  },
  {
   "cell_type": "code",
   "execution_count": 25,
   "metadata": {},
   "outputs": [
    {
     "data": {
      "image/png": "[encoded data removed]",
      "text/latex": [
       "$\\displaystyle \\frac{5 \\left(1 - 2 x\\right)}{\\left(x^{2} - x\\right)^{2}}$"
      ],
      "text/plain": [
       "5⋅(1 - 2⋅x)\n",
       "───────────\n",
       "         2 \n",
       " ⎛ 2    ⎞  \n",
       " ⎝x  - x⎠  "
      ]
     },
     "execution_count": 25,
     "metadata": {},
     "output_type": "execute_result"
    }
   ],
   "source": [
    "sp.diff(5/(x**2 - x))"
   ]
  },
  {
   "cell_type": "code",
   "execution_count": 26,
   "metadata": {},
   "outputs": [
    {
     "data": {
      "image/png": "[encoded data removed]",
      "text/latex": [
       "$\\displaystyle 21 \\left(7 x + 1\\right)^{2}$"
      ],
      "text/plain": [
       "            2\n",
       "21⋅(7⋅x + 1) "
      ]
     },
     "execution_count": 26,
     "metadata": {},
     "output_type": "execute_result"
    }
   ],
   "source": [
    "sp.diff((7*x + 1)**3)"
   ]
  },
  {
   "cell_type": "code",
   "execution_count": 27,
   "metadata": {},
   "outputs": [
    {
     "data": {
      "image/png": "[encoded data removed]",
      "text/latex": [
       "$\\displaystyle \\frac{1}{\\sqrt{2 x - 2}}$"
      ],
      "text/plain": [
       "     1     \n",
       "───────────\n",
       "  _________\n",
       "╲╱ 2⋅x - 2 "
      ]
     },
     "execution_count": 27,
     "metadata": {},
     "output_type": "execute_result"
    }
   ],
   "source": [
    "sp.diff(sp.sqrt(2*x - 2))"
   ]
  },
  {
   "cell_type": "markdown",
   "metadata": {},
   "source": [
    "## Travailler en autonomie sur plateforme `EULER-WIMS` de Versailles"
   ]
  },
  {
   "cell_type": "code",
   "execution_count": 28,
   "metadata": {},
   "outputs": [],
   "source": [
    "import IPython.display as ipd"
   ]
  },
  {
   "cell_type": "code",
   "execution_count": 30,
   "metadata": {},
   "outputs": [
    {
     "data": {
      "text/html": [
       "\n",
       "        <iframe\n",
       "            width=\"900\"\n",
       "            height=\"400\"\n",
       "            src=\"http://acver.fr/gi8\"\n",
       "            frameborder=\"0\"\n",
       "            allowfullscreen\n",
       "        ></iframe>\n",
       "        "
      ],
      "text/plain": [
       "<IPython.lib.display.IFrame at 0x7faefdc6b950>"
      ]
     },
     "execution_count": 30,
     "metadata": {},
     "output_type": "execute_result"
    }
   ],
   "source": [
    "ipd.IFrame(src=\"http://acver.fr/gi8\",width = 900,height = 400)"
   ]
  }
 ],
 "metadata": {
  "kernelspec": {
   "display_name": "Python 3",
   "language": "python",
   "name": "python3"
  },
  "language_info": {
   "codemirror_mode": {
    "name": "ipython",
    "version": 3
   },
   "file_extension": ".py",
   "mimetype": "text/x-python",
   "name": "python",
   "nbconvert_exporter": "python",
   "pygments_lexer": "ipython3",
   "version": "3.7.4"
  }
 },
 "nbformat": 4,
 "nbformat_minor": 4
}
